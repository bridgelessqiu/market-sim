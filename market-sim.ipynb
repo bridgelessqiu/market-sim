{
 "cells": [
  {
   "cell_type": "code",
   "execution_count": 115,
   "id": "7ab4ff8a-0e9c-47b1-b70d-47ed106da2aa",
   "metadata": {},
   "outputs": [],
   "source": [
    "import pprint\n",
    "import numpy as np\n",
    "import pandas as pd\n",
    "from collections import Counter\n",
    "import matplotlib.pyplot as plt\n",
    "import matplotlib.style as style\n",
    "%matplotlib inline"
   ]
  },
  {
   "cell_type": "markdown",
   "id": "904825d3-44d7-4e05-85b6-413ffa8f661a",
   "metadata": {},
   "source": [
    "## Bid-Frame"
   ]
  },
  {
   "cell_type": "code",
   "execution_count": 141,
   "id": "991eafcd-ed5a-4d67-a1c5-a1bea30491ac",
   "metadata": {},
   "outputs": [],
   "source": [
    "# Utility\n",
    "def cumu_sum(units):\n",
    "    total = 0\n",
    "    for u in units:\n",
    "        total += u\n",
    "        yield total\n",
    "\n",
    "class OrderBook():\n",
    "    col_names = [\n",
    "        'Unit',\n",
    "        'Price',\n",
    "        'Type',\n",
    "        'User'\n",
    "    ]\n",
    "\n",
    "    def __init__(self):\n",
    "        self.num_bids = 0\n",
    "        self.num_asks = 0\n",
    "        self.bids = []\n",
    "        self.asks = []\n",
    "\n",
    "    def add_bid(\n",
    "        self,\n",
    "        unit,\n",
    "        price,\n",
    "        user_id\n",
    "    ):\n",
    "        new_bid = (unit, price, 'bid', user_id)\n",
    "        self.bids.append(new_bid)\n",
    "        self.num_bids += 1\n",
    "\n",
    "    def add_ask(\n",
    "        self,\n",
    "        unit,\n",
    "        price,\n",
    "        user_id\n",
    "    ):\n",
    "        new_ask = (unit, price, 'ask', user_id)\n",
    "        self.asks.append(new_ask)\n",
    "        self.num_asks += 1\n",
    "\n",
    "    def display(self, scale = 0):\n",
    "        if scale == 0:\n",
    "            full_data = self.bids + self.asks\n",
    "            df = pd.DataFrame(full_data, columns=self.col_names)\n",
    "        elif scale == 1:\n",
    "            df = pd.DataFrame(self.bids, columns=self.col_names)\n",
    "        else:\n",
    "            df = pd.DataFrame(self.asks, columns=self.col_names)\n",
    "\n",
    "        return df\n",
    "\n",
    "    def get_demand_curve(self):\n",
    "        # {price : units}\n",
    "        bid_dict = Counter()\n",
    "        \n",
    "        for bid in self.bids:\n",
    "            bid_dict[bid[1]] += bid[0]\n",
    "        sorted_bids = sorted(list(bid_dict.items()), reverse=True)\n",
    "        \n",
    "        return sorted_bids\n",
    "\n",
    "    def get_supply_curve(self):\n",
    "        # {price : units}\n",
    "        ask_dict = Counter()\n",
    "        \n",
    "        for ask in self.asks:\n",
    "            ask_dict[ask[1]] += ask[0]\n",
    "        sorted_asks = sorted(list(ask_dict.items()))\n",
    "        \n",
    "        return sorted_asks\n",
    "\n",
    "    def plot_curves(self):\n",
    "        demand_curve = self.get_demand_curve()\n",
    "        supply_curve = self.get_supply_curve()\n",
    "\n",
    "        demand_units = [unit for price, unit in demand_curve]\n",
    "        demand_prices = [price for price, unit in demand_curve]\n",
    "        cumulative_demand = [0] + list(cumu_sum(demand_units))\n",
    "    \n",
    "        supply_units = [unit for price, unit in supply_curve]\n",
    "        supply_prices = [price for price, unit in supply_curve]\n",
    "        cumulative_supply = [0] + list(cumu_sum(supply_units))\n",
    "    \n",
    "        demand_prices = demand_prices + [demand_prices[-1]]\n",
    "        supply_prices = supply_prices + [supply_prices[-1]]\n",
    "    \n",
    "        plt.step(cumulative_demand, demand_prices, label='Demand Curve', where='post', \n",
    "                 color='#1f77b4', linewidth=2.5, alpha=0.8)\n",
    "        plt.step(cumulative_supply, supply_prices, label='Supply Curve', where='post', \n",
    "                 color='#ff7f0e', linewidth=2.5, alpha=0.8)\n",
    "    \n",
    "        plt.title('Cumulative Demand and Supply Curves', fontsize=14, fontweight='bold')\n",
    "        plt.xlabel('Cumulative Units', fontsize=12)\n",
    "        plt.ylabel('Price', fontsize=12)\n",
    "        plt.legend(loc='best', frameon=True, fontsize=10)\n",
    "        plt.grid(True, linestyle='--', alpha=0.6)\n",
    "    \n",
    "        # Show the plot\n",
    "        plt.show()"
   ]
  },
  {
   "cell_type": "code",
   "execution_count": 142,
   "id": "606a358d-8a35-4616-924b-a3cb87dad756",
   "metadata": {},
   "outputs": [],
   "source": [
    "M = OrderBook()"
   ]
  },
  {
   "cell_type": "code",
   "execution_count": 143,
   "id": "2e0f1341-8d8d-4a00-bbd1-97d4f222ff6e",
   "metadata": {},
   "outputs": [],
   "source": [
    "M.add_ask(10, 1, 0)\n",
    "M.add_ask(1, 1, 0)\n",
    "M.add_ask(3, 2, 0)\n",
    "\n",
    "M.add_bid(10, 1, 0)\n",
    "M.add_bid(1, 1, 0)\n",
    "M.add_bid(3, 2, 0)"
   ]
  },
  {
   "cell_type": "code",
   "execution_count": 146,
   "id": "ac1972a2-ae6b-453a-bee9-1b2440b3ce2d",
   "metadata": {},
   "outputs": [
    {
     "data": {
      "image/png": "[encoded data removed]",
      "text/plain": [
       "<Figure size 640x480 with 1 Axes>"
      ]
     },
     "metadata": {},
     "output_type": "display_data"
    }
   ],
   "source": [
    "M.plot_curves()"
   ]
  },
  {
   "cell_type": "code",
   "execution_count": null,
   "id": "95ddfb1c-26b7-4d15-b283-542c514d3dff",
   "metadata": {},
   "outputs": [],
   "source": []
  }
 ],
 "metadata": {
  "kernelspec": {
   "display_name": "Python 3 (ipykernel)",
   "language": "python",
   "name": "python3"
  },
  "language_info": {
   "codemirror_mode": {
    "name": "ipython",
    "version": 3
   },
   "file_extension": ".py",
   "mimetype": "text/x-python",
   "name": "python",
   "nbconvert_exporter": "python",
   "pygments_lexer": "ipython3",
   "version": "3.11.4"
  }
 },
 "nbformat": 4,
 "nbformat_minor": 5
}
